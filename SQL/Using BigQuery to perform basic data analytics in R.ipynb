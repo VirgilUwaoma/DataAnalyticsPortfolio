{
 "cells": [
  {
   "cell_type": "markdown",
   "metadata": {},
   "source": [
    "\n"
   ]
  },
  {
   "cell_type": "code",
   "execution_count": null,
   "metadata": {},
   "outputs": [],
   "source": [
    "knitr::opts_chunk$set(echo = TRUE)\n",
    "\n"
   ]
  },
  {
   "cell_type": "markdown",
   "metadata": {},
   "source": [
    "This is a sample notebook of executing SQL commands in order to analyze and visualize some data, using  some basic charts.\n",
    "\n",
    "We'll explore a BigQuery public data set and reproduce how we might write queries for certain business problems.\n",
    "\n",
    "\n",
    "\n",
    "## Setup\n",
    "\n",
    "### Install relevant packages\n"
   ]
  },
  {
   "cell_type": "code",
   "execution_count": null,
   "metadata": {},
   "outputs": [],
   "source": [
    "#install.packages(c(\"tidyverse\", \"bigrquery\",\"DBI\", \"wk\", \"pastecs\" ))\n",
    "library(tidyverse)\n",
    "library(DBI)\n",
    "library(bigrquery)\n",
    "library(wk)\n",
    "library(pastecs)\n"
   ]
  },
  {
   "cell_type": "markdown",
   "metadata": {},
   "source": [
    "\n",
    "### Setup to connection to BigQuery\n"
   ]
  },
  {
   "cell_type": "code",
   "execution_count": null,
   "metadata": {},
   "outputs": [],
   "source": [
    "con <- dbConnect(\n",
    "  bigquery(),\n",
    "  project = \"bigquery-public-data\",\n",
    "  dataset = \"san_francisco_bikeshare\",\n",
    "  billing = \"personal-portfolio-346209\"\n",
    ")\n",
    " con\n"
   ]
  },
  {
   "cell_type": "markdown",
   "metadata": {},
   "source": [
    "## Queries\n",
    "\n",
    "We'll be using the San Francisco Bikeshares dataset, which contains information around trips for the bikeshare program in San Francisco.\n",
    "\n",
    "There's 4  tables in this dataset. First, we should look at the schema of all of these tables and see where we might be able to join for insight in future queries.\n",
    "\n",
    "The tables are\n",
    "\n",
    "* bikeshare_regions\n",
    "* bikeshare_station_info\n",
    "* bikeshare_station_status\n",
    "* bikeshare_trips\n"
   ]
  },
  {
   "cell_type": "code",
   "execution_count": null,
   "metadata": {},
   "outputs": [],
   "source": [
    "# bikeshare_regions\n",
    "\n",
    "dbGetQuery(\n",
    "   con, '\n",
    "  select * \n",
    "  FROM bikeshare_regions\n",
    "  limit 10'\n",
    " )\n"
   ]
  },
  {
   "cell_type": "markdown",
   "metadata": {},
   "source": [
    "\n",
    "\n"
   ]
  },
  {
   "cell_type": "code",
   "execution_count": null,
   "metadata": {},
   "outputs": [],
   "source": [
    "# bikeshare_station_info\n",
    "dbGetQuery(\n",
    "  con, '\n",
    "  select * \n",
    "  FROM bikeshare_station_info\n",
    "  limit 10'\n",
    ")\n"
   ]
  },
  {
   "cell_type": "markdown",
   "metadata": {},
   "source": [
    "\n",
    "\n"
   ]
  },
  {
   "cell_type": "code",
   "execution_count": null,
   "metadata": {},
   "outputs": [],
   "source": [
    "# bikeshare_station_status\n",
    "dbGetQuery(\n",
    "  con, '\n",
    "  select * \n",
    "  from bikeshare_station_status\n",
    "  limit 10'\n",
    ")\n"
   ]
  },
  {
   "cell_type": "markdown",
   "metadata": {},
   "source": [
    "\n",
    "\n"
   ]
  },
  {
   "cell_type": "code",
   "execution_count": null,
   "metadata": {},
   "outputs": [],
   "source": [
    "# bikeshare_station_status\n",
    "dbGetQuery(\n",
    "  con, '\n",
    "  select * \n",
    "  from bikeshare_trips\n",
    "  limit 10'\n",
    ")\n"
   ]
  },
  {
   "cell_type": "markdown",
   "metadata": {},
   "source": [
    "Looking  at the schemas, we see that each table gives us some different information. A few things to note:\n",
    "\n",
    "* We get some interesting information from the station_info table regarding payment types. It may be interesting to look if stations with different payment types are associated with more or less rides.\n",
    "* The bikeshare_trips table will give us information around ride-by-ride stats and has unique identifiers around customers/members that use them.\n",
    "  + There is additional information for members, but not for customers\n",
    "  + This will allow us to take a look at where popular routes might be\n",
    "\n",
    "At this point, we can start looking at doing some queries for exploratiion, and see where we might be able to answer questions with real business impact.\n",
    "\n",
    "Let's start out by looking how many rides each of the bikes in our dataset have on them. This might give us an idea how much wear and tear these bikes have.\n"
   ]
  },
  {
   "cell_type": "code",
   "execution_count": null,
   "metadata": {},
   "outputs": [],
   "source": [
    "# q1\n",
    "# Which bikes have been used the most?\n",
    "query1 <- dbGetQuery(\n",
    "  con, '\n",
    "  select count(trip_id) as num_trips, bike_number\n",
    "  from bikeshare_trips\n",
    "  group by bike_number\n",
    "  order by num_trips desc\n",
    "  '\n",
    ")\n",
    "\n",
    "ggplot(query1, aes(x = num_trips)) +\n",
    "  geom_histogram(bins = 20, fill = \"blue\") + \n",
    "  labs(x = \"number of trips\",\n",
    "       y = \"numbver of bikes\",\n",
    "       subtitle = \"Number of rides per bike\") +\n",
    "  theme_bw()\n"
   ]
  },
  {
   "cell_type": "markdown",
   "metadata": {},
   "source": [
    "We see that the distribution is not normal, and it looks like there are two fundamental groups. We have one group of bikes that is used less than about 1000 times, and another normal-ish looking distribution centered around 2750. It might be interesting to look at the differences between these two groups of bikes- maybe they tend to be found on different routes? Maybe they have less miles on them, but are used more frequently?\n",
    "\n",
    "Let's start off by looking at the differences between the average ride time between the \"many-rides\" group and the \"few-rides\" group.\n"
   ]
  },
  {
   "cell_type": "code",
   "execution_count": null,
   "metadata": {},
   "outputs": [],
   "source": [
    "# q2\n",
    "# compare average ride times for bikes above/below 1500 bikes\n",
    "# high rides query\n",
    "query2_a <- dbGetQuery(\n",
    "  con, '\n",
    "  select avg(duration_sec)/60 as avg_trip_length,\n",
    "  count(trip_id) as num_trips,bike_number\n",
    "  from bikeshare_trips\n",
    "  group by bike_number\n",
    "  having num_trips >= 1500'\n",
    ")\n",
    "\n",
    "# low rides query\n",
    "query2_b<- dbGetQuery(\n",
    "  con, '\n",
    "  select avg(duration_sec)/60 as avg_trip_length,\n",
    "  count(trip_id) as num_trips, bike_number \n",
    "  from bikeshare_trips\n",
    "  group by bike_number\n",
    "  having num_trips < 1500'\n",
    ")\n",
    "\n",
    "# Add a colummn to both data frames to help with visualization\n",
    "query2_a <- query2_a %>% mutate(Usage=\"High\")\n",
    "query2_b <- query2_b %>% mutate(Usage=\"Low\")\n",
    "\n",
    "# Plot\n",
    "ggplot() +\n",
    "  geom_density(query2_a, mapping = aes(avg_trip_length, color = Usage) ) +\n",
    "  geom_density(query2_b, mapping = aes(avg_trip_length, color = Usage) ) +\n",
    "  labs(\n",
    "    x = \"average ride time\",\n",
    "    y = \"Density/Frequency\",\n",
    "    subtitle = \"Comparing High Usage and Low Usage Bikes\",\n",
    "  ) +\n",
    "  theme_bw() +\n",
    "  scale_color_manual(name= \"Bikes\",\n",
    "                     breaks=c('High', 'Low'),\n",
    "                     values=c('High'='red', 'Low'='blue'))\n"
   ]
  },
  {
   "cell_type": "markdown",
   "metadata": {},
   "source": [
    "So we can see that our bikes with lower number of trips have a higher variance around the average trip length, whereas the high usage bikes have much lower variance. This gives some evidence to our theory that perhaps the higher usage bikes are going on certain high-traffic routes; that are about 17 minutes.\n",
    "\n",
    "Note that a density plot instead of comparing histograms. From a data visualization perspective, we want these plotted on the same axes to make this comparison easy to make. Doing overlapping histograms can get cluttered, so we opt instead for the density plot which comes across much cleaner with the same kind of takeaway as the histogram.\n",
    "\n",
    "Interestingly, the mean of both of these appear to be the same. We'll calculate some basic statics below to confirm.\n"
   ]
  },
  {
   "cell_type": "code",
   "execution_count": null,
   "metadata": {},
   "outputs": [],
   "source": [
    "# high usage\n",
    "stat.desc(query2_a)\n"
   ]
  },
  {
   "cell_type": "markdown",
   "metadata": {},
   "source": [
    "\n",
    "\n"
   ]
  },
  {
   "cell_type": "code",
   "execution_count": null,
   "metadata": {},
   "outputs": [],
   "source": [
    "# low usage\n",
    "stat.desc(query2_b)\n"
   ]
  },
  {
   "cell_type": "markdown",
   "metadata": {},
   "source": [
    "A few more things to note...\n",
    "\n",
    "* We have a lot more bikes in the low usage group compared to high usage group, by about 9x\n",
    "* The means are pretty close, but the standard deviations are less similar. The higher usage has a higher variance but lower mean.\n",
    "* We could run a t-test to see if the means are equal, but with such large sample sizes we will likely come to the conclusion that they are different\n",
    "\n",
    "Let's take a look into the top 25 routes used for each group and see if this explains the differences.\n"
   ]
  },
  {
   "cell_type": "code",
   "execution_count": null,
   "metadata": {},
   "outputs": [],
   "source": [
    "# routes for high usage\n",
    "# q3 \n",
    "\n",
    "query3a <- dbGetQuery(\n",
    "  con, '\n",
    "  select sum(num_trips) as trips, start_station_id, \n",
    "          end_station_id, concat(start_station_id, \"_\", end_station_id) as route_code\n",
    "  \n",
    "  from (select count(trip_id) as num_trips, start_station_id, end_station_id, bike_number\n",
    "        from bikeshare_trips\n",
    "        where bike_number in (select bike_number \n",
    "                              from (select count(trip_id) as num_trips, bike_number \n",
    "                                    from bikeshare_trips\n",
    "                                    group by bike_number\n",
    "                                    having num_trips >= 1500)\n",
    "                              )\n",
    "        group by start_station_id, end_station_id, bike_number\n",
    "        )\n",
    "  \n",
    "  group by start_station_id, end_station_id\n",
    "  order by trips desc\n",
    "  limit 25\n",
    "  '\n",
    ")\n",
    "\n",
    "query3a\n"
   ]
  },
  {
   "cell_type": "markdown",
   "metadata": {},
   "source": [
    "\n",
    "\n"
   ]
  },
  {
   "cell_type": "code",
   "execution_count": null,
   "metadata": {},
   "outputs": [],
   "source": [
    "# routes for low usage\n",
    "# q3\n",
    "query3b <- dbGetQuery(\n",
    "  con, '\n",
    "  select sum(num_trips) as trips, start_station_id, \n",
    "          end_station_id, concat(start_station_id, \"_\", end_station_id) as route_code,\n",
    "  \n",
    "  from (select count(trip_id) as num_trips, start_station_id, end_station_id, bike_number\n",
    "        from bikeshare_trips\n",
    "        where bike_number in (select bike_number \n",
    "                              from (select count(trip_id) as num_trips, bike_number \n",
    "                                    from bikeshare_trips\n",
    "                                    group by bike_number\n",
    "                                    having num_trips < 1500)\n",
    "                              )\n",
    "        group by start_station_id, end_station_id, bike_number\n",
    "        )\n",
    "  \n",
    "  group by start_station_id, end_station_id\n",
    "  order by trips desc\n",
    "  limit 25\n",
    "  '\n",
    ")\n",
    "\n",
    "query3b\n"
   ]
  },
  {
   "cell_type": "markdown",
   "metadata": {},
   "source": [
    "\n",
    "Let's see if there are any common routes between the high usage and low usage bikes \n"
   ]
  },
  {
   "cell_type": "code",
   "execution_count": null,
   "metadata": {},
   "outputs": [],
   "source": [
    "high_vol <- query3a\n",
    "\n",
    "high_vol <- high_vol %>% \n",
    "  mutate(`in_low?` = route_code %in% query3b$route_code)\n",
    "\n",
    "high_vol\n"
   ]
  },
  {
   "cell_type": "markdown",
   "metadata": {},
   "source": [
    "Interestingly, none of the top 25 routes for the high volume bikes are in the top 25 low volume bike routes. Although we could drill a bit deeper into this, with an initial analysis we see evidence that bikes that have the most rides are going on different routes for the higher volume bikes and lower volume bikes. This might be an interesting business result if the company is experiencing unequal wear and tear on the bikes - perhaps bikes from the lower volume routes could be moved to the higher ones and vice versa for more equal wear.\n",
    "\n",
    "\n",
    "Let's pivot a bit to look at some customers vs subscribers behaviours.\n",
    "\n",
    "I want to take a look at the cumulative minutes spent on bike rides by our subscribers vs customers on a month-by-month basis for 2015 (only year we have full data).\n"
   ]
  },
  {
   "cell_type": "code",
   "execution_count": null,
   "metadata": {},
   "outputs": [],
   "source": [
    "query4 <- dbGetQuery(\n",
    "  con, '\n",
    "  select sum(customer_minutes_sum) over (order by end_month rows unbounded preceding)/1000 as cumulative_minutes_cust,\n",
    "          sum(subscriber_minutes_sum) over (order by end_month rows unbounded preceding)/1000 as cumulative_minutes_sub,\n",
    "          end_year,\n",
    "          end_month\n",
    " \n",
    "  from (select sum (case when subscriber_type = \"Customer\" then duration_sec/60 else null end) as customer_minutes_sum,\n",
    "               sum (case when subscriber_type = \"Subscriber\" then duration_sec/60 else null end) as subscriber_minutes_sum,\n",
    "               extract(year from end_date) as end_year,\n",
    "               extract(month from end_date) as end_month\n",
    "        from bikeshare_trips\n",
    "        group by end_year, end_month\n",
    "        having end_year = 2015\n",
    "        )\n",
    "  \n",
    "  order by end_year, end_month\n",
    "  '\n",
    ")\n",
    "\n",
    "#Plot\n",
    "query4\n",
    "\n",
    "ggplot(query4, mapping = aes(x = end_month)) +\n",
    "  geom_line(mapping = aes(y = cumulative_minutes_cust, color = \"Customers\"))+\n",
    "  geom_line(mapping = aes(y = cumulative_minutes_sub, color= \"Subscribers\"))+\n",
    "  labs(\n",
    "    x = \"Month\",\n",
    "    y = \"Cumulative Minutes (1000s)\",\n",
    "    color = \"User Type\",\n",
    "    subtitle = \"Cumulative minutes ridden by users\"\n",
    "  ) +\n",
    "  scale_x_continuous(breaks = seq(1, 12, by = 1))+\n",
    "  theme_bw()\n"
   ]
  },
  {
   "cell_type": "markdown",
   "metadata": {},
   "source": [
    "We see something interesting here. Subscribers, people that pay for longer-term memberships, are using the bikes at a decently consistent rate throughout the year. The customers, people that don't intend to use the bikes very often, really use them a lot more in the summer months, months 6 - 8. Overall, the subscribers will spend more time on the bikes over the year with their relatively more consistent usage.\n",
    "\n",
    "Let's change the last query slightly and look how the average ride length changes over months.\n"
   ]
  },
  {
   "cell_type": "code",
   "execution_count": null,
   "metadata": {},
   "outputs": [],
   "source": [
    "query5 <- dbGetQuery(\n",
    "  con, '\n",
    "  select avg(case when subscriber_type = \"Customer\" then duration_sec/60 else null end) as customer_minutes_avg,\n",
    "         avg(case when subscriber_type = \"Subscriber\" then duration_sec/60 else null end ) as subscriber_minutes_avg,\n",
    "         extract(year from end_date) as end_year,\n",
    "         extract(month from end_date) as end_month,\n",
    "  \n",
    "  from bikeshare_trips\n",
    "  \n",
    "  group by end_year, end_month\n",
    "  having end_year = 2015\n",
    "  order by end_year, end_month\n",
    "  '\n",
    ")\n",
    "\n",
    "# Plot\n",
    "ggplot(query5, mapping = aes(x = end_month)) +\n",
    "  geom_line(mapping = aes(y = customer_minutes_avg, color = \"Customers\")) +\n",
    "  geom_line(mapping = aes(y = subscriber_minutes_avg, color = \"Subscribers\"))+\n",
    "  labs(\n",
    "    x=\"Months\",\n",
    "    y=\"Average ride length (min)\",\n",
    "    color = \"User Type\",\n",
    "    subtitle = \"Average minutes ridden per trip\"\n",
    "  ) + \n",
    "  theme_bw()+\n",
    "  scale_x_continuous(breaks = seq(1, 12, by = 1))\n"
   ]
  },
  {
   "cell_type": "markdown",
   "metadata": {},
   "source": [
    "The above graph very clearly shows the phenomenon that we showed with the other query- the average ride length skyrockets over the summer as presumably more casual customers find good weather to take longer bike rides. The subscribers are likely commuting for the most part, or at least keeping their habits very consistent. We also note that the average ride length is much longer for the customers regardless of the spike, indicating again that customers might use the bikes for leisure purposes much more than subscribers. Given  that the average is so much lower and the previous chart looks the way it did, we can infer that the volume of subscriber rides to customer rides is many times higher.\n",
    "\n",
    "We'll take a look at the origin stations popular with customers and subscribers and see if the capacities seem different for each. To do this we utilize data from multiple tables.\n"
   ]
  },
  {
   "cell_type": "code",
   "execution_count": null,
   "metadata": {},
   "outputs": [],
   "source": [
    "# q6\n",
    "query6_sub <- dbGetQuery(\n",
    "  con, '\n",
    "  select sum(case when trips.subscriber_type = \"Subscriber\" then trips.trip else null end) as sub_trips,\n",
    "         info.station_id as station,\n",
    "         info.capacity as cap\n",
    "  \n",
    "  from bikeshare_station_info as info\n",
    "       inner join (select start_station_id, subscriber_type, count(trip_id) as trip\n",
    "                   from bikeshare_trips\n",
    "                   group by start_station_id, subscriber_type) as trips\n",
    "       on info.station_id = trips.start_station_id\n",
    "  \n",
    "  group by station, cap\n",
    "  order by sub_trips desc\n",
    "  limit 25\n",
    "  '\n",
    ")\n",
    "\n",
    "head(query6_sub)\n"
   ]
  },
  {
   "cell_type": "markdown",
   "metadata": {},
   "source": [
    "\n",
    "\n"
   ]
  },
  {
   "cell_type": "code",
   "execution_count": null,
   "metadata": {},
   "outputs": [],
   "source": [
    "query6_cust <- dbGetQuery(\n",
    "  con, '\n",
    "  select sum(case when trips.subscriber_type = \"Customer\" then trips.trip else null end) as sub_trips,\n",
    "         info.station_id as station,\n",
    "         info.capacity as cap\n",
    "  \n",
    "  from bikeshare_station_info as info\n",
    "       inner join (select start_station_id, subscriber_type, count(trip_id) as trip\n",
    "                   from bikeshare_trips\n",
    "                   group by start_station_id, subscriber_type) as trips\n",
    "       on info.station_id = trips.start_station_id\n",
    "  \n",
    "  group by station, cap\n",
    "  order by sub_trips desc\n",
    "  limit 25\n",
    "  '\n",
    ")\n",
    "\n",
    "head(query6_cust)\n"
   ]
  },
  {
   "cell_type": "markdown",
   "metadata": {},
   "source": [
    "Right away, we can see that the most frequent stations to start a trip for both subscribers and customers include station 70, indicating this must be an area that a lot of people go to in general.\n",
    "\n",
    "We'll take a look at the mean and standard deviation around each capacity in the 25 stations for both sides.\n"
   ]
  },
  {
   "cell_type": "code",
   "execution_count": null,
   "metadata": {},
   "outputs": [],
   "source": [
    "mean_cust <- mean(query6_cust$cap)\n",
    "sd_cust <- sd(query6_cust$cap)\n",
    "mean_sub <- mean(query6_sub$cap)\n",
    "sd_sub <- sd(query6_sub$cap)\n"
   ]
  },
  {
   "cell_type": "markdown",
   "metadata": {},
   "source": [
    "\n"
   ]
  },
  {
   "cell_type": "code",
   "execution_count": null,
   "metadata": {},
   "outputs": [],
   "source": [
    "print(paste(\"Mean of top 25 customer stations capacity:\", mean_cust))\n",
    "print(paste(\"Mean of top 25 subscriber stations capacity:\", mean_sub))\n"
   ]
  },
  {
   "cell_type": "markdown",
   "metadata": {},
   "source": [
    "\n"
   ]
  },
  {
   "cell_type": "code",
   "execution_count": null,
   "metadata": {},
   "outputs": [],
   "source": [
    "print(paste(\"Standard Deviation of top 25 customer stations capacity:\", sd_cust))\n",
    "print(paste(\"Standard Deviation of top 25 subscriber stations capacity:\", sd_sub))\n"
   ]
  },
  {
   "cell_type": "markdown",
   "metadata": {},
   "source": [
    "\n",
    "We don't really see a big difference here. We might look into doing some kind of  hypothesis test in the future to dig into this in the future, but we can leave the analysis here for now.\n"
   ]
  }
 ],
 "metadata": {
  "anaconda-cloud": "",
  "kernelspec": {
   "display_name": "Python 3 (ipykernel)",
   "language": "python",
   "name": "python3"
  },
  "language_info": {
   "codemirror_mode": {
    "name": "ipython",
    "version": 3
   },
   "file_extension": ".py",
   "mimetype": "text/x-python",
   "name": "python",
   "nbconvert_exporter": "python",
   "pygments_lexer": "ipython3",
   "version": "3.9.6"
  }
 },
 "nbformat": 4,
 "nbformat_minor": 4
}
